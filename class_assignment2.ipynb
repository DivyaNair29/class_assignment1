{
 "cells": [
  {
   "cell_type": "markdown",
   "id": "197a1d9c",
   "metadata": {},
   "source": [
    "q1 :\n",
    "ineruon \n",
    "ineruon ineruon \n",
    "ineruon ineruon ineruon\n",
    "ineruon ineruon ineruon ineruon"
   ]
  },
  {
   "cell_type": "code",
   "execution_count": 1,
   "id": "a44da528",
   "metadata": {},
   "outputs": [
    {
     "name": "stdout",
     "output_type": "stream",
     "text": [
      "ineuron \n",
      "ineuron ineuron \n",
      "ineuron ineuron ineuron \n",
      "ineuron ineuron ineuron ineuron \n"
     ]
    }
   ],
   "source": [
    "n = 4\n",
    "for i in range(0,4):\n",
    "    for j in range(0,i+1):\n",
    "        print(\"ineuron\", end = \" \")\n",
    "    print()"
   ]
  },
  {
   "cell_type": "markdown",
   "id": "d96001a6",
   "metadata": {},
   "source": [
    "q2 - \n",
    "\n",
    "          ineruon\n",
    "    ineruon      ineruon\n",
    "ineruon\t\tineruon \tineruon\n",
    "\tineruon\t\t ineruon\n",
    "\t\t  ineruon"
   ]
  },
  {
   "cell_type": "code",
   "execution_count": 2,
   "id": "a80ecdbe",
   "metadata": {},
   "outputs": [
    {
     "name": "stdout",
     "output_type": "stream",
     "text": [
      "        ineuron    \n",
      "    ineuron    ineuron    \n",
      "ineuron    ineuron    ineuron    \n",
      "    ineuron    ineuron    \n",
      "        ineuron    \n"
     ]
    }
   ],
   "source": [
    "n = 2\n",
    "k = 2*n-2\n",
    "for i in range(n):\n",
    "    for j in range(0,k):\n",
    "        print(end=\"    \")\n",
    "    k = k-1\n",
    "    for j in range(0,i+1):\n",
    "        print(\"ineuron \", end=\"   \")\n",
    "    print(\"\")\n",
    "    \n",
    "k = n -2\n",
    "for i in range(n,-1,-1):\n",
    "    for j in range(k,0,-1):\n",
    "        print(end=\"    \")\n",
    "        \n",
    "    k = k+1\n",
    "    for j in range(0,i+1):\n",
    "        print(\"ineuron \", end=\"   \")\n",
    "    print(\"\")\n",
    "\n",
    "    "
   ]
  },
  {
   "cell_type": "markdown",
   "id": "15d55314",
   "metadata": {},
   "source": [
    "l = [[1,2,3,4] , (2,3,4,5,6) , (3,4,5,6,7) , set([23,4,5,45,4,4,5,45,45,4,5]) , {'k1' :\"sudh\" , \"k2\" : \"ineuron\",\"k3\":\n",
    "            \"kumar\" , 3:6 , 7:8} , [\"ineuron\" , \"data science \"]]\n",
    "\n",
    "q3 : Try to extract all the list entity \n",
    "q4 : Try to extract all the dict enteties\n",
    "q5 : Try to extract all the tuples entities\n",
    "q6 : Try to extract all the numerical data it may b a part of dict key and values \n",
    "q7 : Try to give summation of all the numeric data \n",
    "q8 : Try to filter out all the odd values out all numeric data which is a part of a list \n",
    "q9 : Try to extract \"ineruon\" out of this data\n",
    "q10 :Try to find out a number of occurances of all the data \n",
    "q11 : Try to find out number of keys in dict element\n",
    "q12 : Try to filter out all the string data \n",
    "q13 : Try to Find  out alphanum in data\n",
    "q14 : Try to find out multiplication of all numeric value in  the individual collection inside dataset \n",
    "q15 : Try to unwrape all the collection inside collection and create a flat list \n",
    "    "
   ]
  },
  {
   "cell_type": "code",
   "execution_count": 3,
   "id": "f6c0b4f6",
   "metadata": {},
   "outputs": [
    {
     "name": "stdout",
     "output_type": "stream",
     "text": [
      "[1, 2, 3, 4]\n",
      "['ineuron', 'data science ']\n"
     ]
    }
   ],
   "source": [
    "l = [[1,2,3,4] , (2,3,4,5,6) , (3,4,5,6,7) , set([23,4,5,45,4,4,5,45,45,4,5]) , {'k1' :\"sudh\" , \"k2\" : \"ineuron\",\"k3\":\n",
    "            \"kumar\" , 3:6 , 7:8} , [\"ineuron\" , \"data science \"]]\n",
    "\n",
    "#Ans3:\n",
    "for i in l:\n",
    "    if type(i)==list:\n",
    "        print(i)"
   ]
  },
  {
   "cell_type": "code",
   "execution_count": 4,
   "id": "291248b3",
   "metadata": {},
   "outputs": [
    {
     "name": "stdout",
     "output_type": "stream",
     "text": [
      "{'k1': 'sudh', 'k2': 'ineuron', 'k3': 'kumar', 3: 6, 7: 8}\n"
     ]
    }
   ],
   "source": [
    "#Ans4: \n",
    "for i in l:\n",
    "    if type(i)==dict:\n",
    "        print(i)\n"
   ]
  },
  {
   "cell_type": "code",
   "execution_count": 5,
   "id": "2e168af2",
   "metadata": {},
   "outputs": [
    {
     "name": "stdout",
     "output_type": "stream",
     "text": [
      "(2, 3, 4, 5, 6)\n",
      "(3, 4, 5, 6, 7)\n"
     ]
    }
   ],
   "source": [
    "#Ans5:\n",
    "for i in l:\n",
    "    if type(i)==tuple:\n",
    "        print(i)"
   ]
  },
  {
   "cell_type": "code",
   "execution_count": 6,
   "id": "c2d09121",
   "metadata": {},
   "outputs": [
    {
     "name": "stdout",
     "output_type": "stream",
     "text": [
      "1\n",
      "2\n",
      "3\n",
      "4\n",
      "2\n",
      "3\n",
      "4\n",
      "5\n",
      "6\n",
      "3\n",
      "4\n",
      "5\n",
      "6\n",
      "7\n",
      "45\n",
      "4\n",
      "5\n",
      "23\n",
      "3 6\n",
      "7 8\n"
     ]
    }
   ],
   "source": [
    "#Ans6:\n",
    "for i in l:\n",
    "    if type(i) == list or type(i) == set or type(i) ==tuple :\n",
    "        for j in i:\n",
    "            if type(j) == int:\n",
    "                print(j)\n",
    "    if type(i) ==dict:\n",
    "        for k in i:\n",
    "            if type(k) == int or type(i[k]) ==int:\n",
    "                print(k, i[k])"
   ]
  },
  {
   "cell_type": "code",
   "execution_count": 7,
   "id": "266d9c63",
   "metadata": {},
   "outputs": [
    {
     "name": "stdout",
     "output_type": "stream",
     "text": [
      "156\n"
     ]
    }
   ],
   "source": [
    "#Ans7:\n",
    "l1=[]\n",
    "for i in l:\n",
    "    if type(i) == list or type(i) == set or type(i) ==tuple :\n",
    "        for j in i:\n",
    "            if type(j) == int:\n",
    "                l1.append(j)\n",
    "    if type(i) ==dict:\n",
    "        for k in i:\n",
    "            if type(k) == int or type(i[k]) ==int:\n",
    "                l1.append(k)\n",
    "                l1.append(i[k])\n",
    "total=0\n",
    "for v in l1:\n",
    "    total+=v\n",
    "print(total)"
   ]
  },
  {
   "cell_type": "code",
   "execution_count": 8,
   "id": "16a0ee11",
   "metadata": {},
   "outputs": [
    {
     "name": "stdout",
     "output_type": "stream",
     "text": [
      "1\n",
      "3\n"
     ]
    }
   ],
   "source": [
    "#Ans8:\n",
    "for i in l:\n",
    "    if type(i)==list:\n",
    "        for j in i:\n",
    "            if type(j) == int and j%2 != 0:\n",
    "                print(j)"
   ]
  },
  {
   "cell_type": "code",
   "execution_count": 9,
   "id": "6b14e58d",
   "metadata": {},
   "outputs": [
    {
     "name": "stdout",
     "output_type": "stream",
     "text": [
      "ineuron\n",
      "ineuron\n"
     ]
    }
   ],
   "source": [
    "#Ans9:\n",
    "for i in l:\n",
    "    if i == \"ineuron\":\n",
    "        print(i)\n",
    "    if type(i) == list:\n",
    "        for j in i:\n",
    "            if j == \"ineuron\":\n",
    "                print(j)\n",
    "    if type(i) == dict:\n",
    "        for k in i:\n",
    "            if k == \"ineuron\":\n",
    "                print(k)\n",
    "            if i[k] ==\"ineuron\" :\n",
    "                print(i[k])"
   ]
  },
  {
   "cell_type": "code",
   "execution_count": 10,
   "id": "cdfb3d24",
   "metadata": {},
   "outputs": [
    {
     "name": "stdout",
     "output_type": "stream",
     "text": [
      "{1: 1, 2: 2, 3: 4, 4: 4, 5: 3, 6: 3, 7: 2, 45: 1, 23: 1, 'k1': 1, 'sudh': 1, 'k2': 1, 'ineuron': 2, 'k3': 1, 'kumar': 1, 8: 1, 'data science ': 1}\n"
     ]
    }
   ],
   "source": [
    "l = [[1,2,3,4] , (2,3,4,5,6) , (3,4,5,6,7) , set([23,4,5,45,4,4,5,45,45,4,5]) , {'k1' :\"sudh\" , \"k2\" : \"ineuron\",\"k3\":\n",
    "            \"kumar\" , 3:6 , 7:8} , [\"ineuron\" , \"data science \"]]\n",
    "#Ans10:\n",
    "l2 = []\n",
    "for i in l:\n",
    "    if type(i) == tuple or type(i) == list or type(i) == set:\n",
    "        for j in i:\n",
    "            l2.append(j)\n",
    "    if type(i) == dict:\n",
    "        for k in i:\n",
    "            l2.append(k)\n",
    "            l2.append(i[k])\n",
    "    \n",
    "\n",
    "r = {i: l2.count(i) for i in l2}\n",
    "print(r)   "
   ]
  },
  {
   "cell_type": "code",
   "execution_count": 11,
   "id": "688d6885",
   "metadata": {},
   "outputs": [
    {
     "name": "stdout",
     "output_type": "stream",
     "text": [
      "5\n"
     ]
    }
   ],
   "source": [
    "#Ans11:\n",
    "for i in l:\n",
    "    if type(i) == dict:\n",
    "        print(len(i.keys()))"
   ]
  },
  {
   "cell_type": "code",
   "execution_count": 12,
   "id": "5ff9d804",
   "metadata": {},
   "outputs": [
    {
     "name": "stdout",
     "output_type": "stream",
     "text": [
      "k1\n",
      "sudh\n",
      "k2\n",
      "ineuron\n",
      "k3\n",
      "kumar\n",
      "ineuron\n",
      "data science \n"
     ]
    }
   ],
   "source": [
    "#Ans12:\n",
    "for i in l:\n",
    "    if type(i) == list or type(i) == set or type(i) ==tuple :\n",
    "        for j in i:\n",
    "            if type(j) == str:\n",
    "                print(j)\n",
    "    if type(i) ==dict:\n",
    "        for k in i:\n",
    "            if type(k) == str or type(i[k]) ==str:\n",
    "                print(k)\n",
    "                print(i[k])"
   ]
  },
  {
   "cell_type": "code",
   "execution_count": 13,
   "id": "528cb74d",
   "metadata": {},
   "outputs": [
    {
     "name": "stdout",
     "output_type": "stream",
     "text": [
      "k1\n",
      "k2\n",
      "k3\n"
     ]
    }
   ],
   "source": [
    "#Ans13:\n",
    "for i in l:\n",
    "    if type(i) == dict:\n",
    "        for j in i:\n",
    "            if type(j) ==str and j.isalnum():\n",
    "                print(j)\n",
    "        \n"
   ]
  },
  {
   "cell_type": "code",
   "execution_count": 14,
   "id": "77474c49",
   "metadata": {},
   "outputs": [
    {
     "data": {
      "text/plain": [
       "[24, 17280, 43545600, 901393920000, 18929272320000, 18929272320000]"
      ]
     },
     "execution_count": 14,
     "metadata": {},
     "output_type": "execute_result"
    }
   ],
   "source": [
    "#Ans14:\n",
    "total = 1\n",
    "newlist = []\n",
    "for i in l:\n",
    "    if type(i) == list:\n",
    "        for j in i:\n",
    "            if type(j) == int:\n",
    "                total *= j\n",
    "        newlist.append(total)\n",
    "    if type(i) == tuple:\n",
    "        for k in i:\n",
    "            if type(k) == int:\n",
    "                total*=k\n",
    "        newlist.append(total)\n",
    "    if type(i) == set:\n",
    "        for m in i:\n",
    "            if type(m) == int:\n",
    "                total*=m\n",
    "        newlist.append(total)\n",
    "    if type(i) == dict:\n",
    "        for n in i:\n",
    "            if type(n) == int or type(i[n]) == int:\n",
    "                total*=n\n",
    "        newlist.append(total)\n",
    "    \n",
    "    \n",
    "newlist"
   ]
  },
  {
   "cell_type": "code",
   "execution_count": 15,
   "id": "a773a685",
   "metadata": {},
   "outputs": [
    {
     "data": {
      "text/plain": [
       "[1,\n",
       " 2,\n",
       " 3,\n",
       " 4,\n",
       " 2,\n",
       " 3,\n",
       " 4,\n",
       " 5,\n",
       " 6,\n",
       " 3,\n",
       " 4,\n",
       " 5,\n",
       " 6,\n",
       " 7,\n",
       " 45,\n",
       " 4,\n",
       " 5,\n",
       " 23,\n",
       " 'k1',\n",
       " 'sudh',\n",
       " 'k2',\n",
       " 'ineuron',\n",
       " 'k3',\n",
       " 'kumar',\n",
       " 3,\n",
       " 6,\n",
       " 7,\n",
       " 8,\n",
       " 'ineuron',\n",
       " 'data science ']"
      ]
     },
     "execution_count": 15,
     "metadata": {},
     "output_type": "execute_result"
    }
   ],
   "source": [
    "#Ans15:\n",
    "l3 = []\n",
    "for i in l:\n",
    "    if type(i) == tuple or type(i) == list or type(i) == set:\n",
    "        for j in i:\n",
    "            l3.append(j)\n",
    "    if type(i) == dict:\n",
    "        for k in i:\n",
    "            l3.append(k)\n",
    "            l3.append(i[k])\n",
    "            \n",
    "l3"
   ]
  }
 ],
 "metadata": {
  "kernelspec": {
   "display_name": "Python 3 (ipykernel)",
   "language": "python",
   "name": "python3"
  },
  "language_info": {
   "codemirror_mode": {
    "name": "ipython",
    "version": 3
   },
   "file_extension": ".py",
   "mimetype": "text/x-python",
   "name": "python",
   "nbconvert_exporter": "python",
   "pygments_lexer": "ipython3",
   "version": "3.9.7"
  }
 },
 "nbformat": 4,
 "nbformat_minor": 5
}
