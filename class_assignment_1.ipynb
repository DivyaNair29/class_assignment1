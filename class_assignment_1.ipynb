{
 "cells": [
  {
   "cell_type": "code",
   "execution_count": 1,
   "id": "5b983633",
   "metadata": {},
   "outputs": [],
   "source": [
    "s = \"this is My First Python programming class and i am learNING python string and its function\""
   ]
  },
  {
   "cell_type": "code",
   "execution_count": 2,
   "id": "110a2a7a",
   "metadata": {},
   "outputs": [
    {
     "data": {
      "text/plain": [
       "'h   r tnrrmglsnimeNGyosi dtfco'"
      ]
     },
     "execution_count": 2,
     "metadata": {},
     "output_type": "execute_result"
    }
   ],
   "source": [
    "# 1) Try to extract data from index one to index 300 with a jump of 3 \n",
    "s[1:300:3]"
   ]
  },
  {
   "cell_type": "code",
   "execution_count": 3,
   "id": "777ee433",
   "metadata": {},
   "outputs": [
    {
     "data": {
      "text/plain": [
       "'noitcnuf sti dna gnirts nohtyp GNINrael ma i dna ssalc gnimmargorp nohtyP tsriF yM si sih'"
      ]
     },
     "execution_count": 3,
     "metadata": {},
     "output_type": "execute_result"
    }
   ],
   "source": [
    "# 2) Try to reverse a string without using reverse function\n",
    "s[300:0:-1]"
   ]
  },
  {
   "cell_type": "code",
   "execution_count": 4,
   "id": "fde5dd68",
   "metadata": {},
   "outputs": [
    {
     "data": {
      "text/plain": [
       "['THIS',\n",
       " 'IS',\n",
       " 'MY',\n",
       " 'FIRST',\n",
       " 'PYTHON',\n",
       " 'PROGRAMMING',\n",
       " 'CLASS',\n",
       " 'AND',\n",
       " 'I',\n",
       " 'AM',\n",
       " 'LEARNING',\n",
       " 'PYTHON',\n",
       " 'STRING',\n",
       " 'AND',\n",
       " 'ITS',\n",
       " 'FUNCTION']"
      ]
     },
     "execution_count": 4,
     "metadata": {},
     "output_type": "execute_result"
    }
   ],
   "source": [
    "# 3) Try to split a string after conversion of entire string in uppercase \n",
    "s.upper().split(' ')"
   ]
  },
  {
   "cell_type": "code",
   "execution_count": 5,
   "id": "4a6cb9dc",
   "metadata": {},
   "outputs": [
    {
     "data": {
      "text/plain": [
       "'this is my first python programming class and i am learning python string and its function'"
      ]
     },
     "execution_count": 5,
     "metadata": {},
     "output_type": "execute_result"
    }
   ],
   "source": [
    "# 4) try to convert the whole string into lower case \n",
    "s.lower()"
   ]
  },
  {
   "cell_type": "code",
   "execution_count": 6,
   "id": "4398477d",
   "metadata": {},
   "outputs": [
    {
     "data": {
      "text/plain": [
       "'This Is My First Python Programming Class And I Am Learning Python String And Its Function'"
      ]
     },
     "execution_count": 6,
     "metadata": {},
     "output_type": "execute_result"
    }
   ],
   "source": [
    "# 5) Try to capitalize the whole string\n",
    "s.title()"
   ]
  },
  {
   "cell_type": "markdown",
   "id": "f68df099",
   "metadata": {},
   "source": [
    "6) Write a diference between isalnum() and isalpha()\n",
    "\n",
    "isalnum() returns True if a string consists of alphabets or numbers.\n",
    "Eg: a = \"age30\" - True\n",
    "    b = \"Divya\" - True\n",
    "    c = \"12345\" - True\n",
    "    \n",
    "isalpha() returns True if a string consisits of alphabets only. \n",
    "Eg: a = \"age30\" - False\n",
    "    b = \"Divya\" - True\n",
    "    c = \"12345\" - False\n",
    "    "
   ]
  },
  {
   "cell_type": "code",
   "execution_count": 7,
   "id": "5ac9f662",
   "metadata": {},
   "outputs": [
    {
     "data": {
      "text/plain": [
       "'hel     lo'"
      ]
     },
     "execution_count": 7,
     "metadata": {},
     "output_type": "execute_result"
    }
   ],
   "source": [
    "# 7) Try to give an example of expand tab\n",
    "s1 = \"hel\\tlo\"\n",
    "s1.expandtabs()\n",
    "\n",
    "# Returns tab \"\\t\" with white space."
   ]
  },
  {
   "cell_type": "code",
   "execution_count": 8,
   "id": "85d05e08",
   "metadata": {},
   "outputs": [
    {
     "name": "stdout",
     "output_type": "stream",
     "text": [
      "python\n",
      "python  \n",
      "  python\n"
     ]
    }
   ],
   "source": [
    "# 8) Give an example of strip , lstrip and rstrip \n",
    "\n",
    "s2 = \"  python  \"\n",
    "print(s2.strip())\n",
    "print(s2.lstrip())\n",
    "print(s2.rstrip())"
   ]
  },
  {
   "cell_type": "code",
   "execution_count": 9,
   "id": "25dea6af",
   "metadata": {},
   "outputs": [
    {
     "data": {
      "text/plain": [
       "'p#og#amming'"
      ]
     },
     "execution_count": 9,
     "metadata": {},
     "output_type": "execute_result"
    }
   ],
   "source": [
    "# 9) Replace a string charecter by another charector by taking your own example \n",
    "\n",
    "s3 = \"programming\"\n",
    "s3.replace('r', '#')"
   ]
  },
  {
   "cell_type": "markdown",
   "id": "1a63c8b0",
   "metadata": {},
   "source": [
    "10) Try  to give a defination of string center function with and exmple\n",
    "\n",
    "The string center function makes the string of the required width and extra spaces are filled with the character provided in the function.\n",
    "Eg: d = \"python\"\n",
    "d.center(20, \"-\")\n",
    "20: final width of the string\n",
    "\"-\" : The extra spaces are filled with -"
   ]
  },
  {
   "cell_type": "code",
   "execution_count": 10,
   "id": "398e458a",
   "metadata": {},
   "outputs": [
    {
     "data": {
      "text/plain": [
       "'-------python-------'"
      ]
     },
     "execution_count": 10,
     "metadata": {},
     "output_type": "execute_result"
    }
   ],
   "source": [
    "d = \"python\"\n",
    "d.center(20, \"-\")"
   ]
  },
  {
   "cell_type": "markdown",
   "id": "8e7b14ff",
   "metadata": {},
   "source": [
    "11) Write your own definition of compiler and interpretor without copy paste form internet in your own language\n",
    "\n",
    "Ans: COMPILER - Compiler is a computer program which translates one programming language (source code) to another language (like machine code, bytecode). It reads the whole code and then translates which makes it a slow process. If there is any error, it shows the error only after it completes reading the whole line of codes. Therefore compiler is a slow and time consuming process.\n",
    "\n",
    "INTERPRETER - Interpreter is a computer program which directly executes the source code without compiling it to machine language. It is a faster process as it reads and execute the code, line by line and if there is any error the program simutltaneously shows the error.\n"
   ]
  },
  {
   "cell_type": "markdown",
   "id": "1e24053f",
   "metadata": {},
   "source": [
    "12) Python is a interpreted of compiled language give a clear ans with your understanding\n",
    "\n",
    "Ans: Python is both compiler and interpreter as the source code is compiled into a bytecode in python virtual machine (like jython, pypy) and then it is interpreted to the the machine language."
   ]
  },
  {
   "cell_type": "markdown",
   "id": "eda9aa15",
   "metadata": {},
   "source": [
    "13) Try to write a usecase of python with your understanding\n",
    "\n",
    "Ans: Python is used in all the possible domains to find a solution or improve the existing scenario in any business.\n",
    "It is used in prediction like stock market crash prediction, any disease prediction etc. where the data acquired is analyzed and used to predict the future.\n",
    "Python is also used in developing any business like sentiment analysis through reviews of a particular product or service, customer segmentation to understand their customer and plan accordingly to grow the business."
   ]
  }
 ],
 "metadata": {
  "kernelspec": {
   "display_name": "Python 3 (ipykernel)",
   "language": "python",
   "name": "python3"
  },
  "language_info": {
   "codemirror_mode": {
    "name": "ipython",
    "version": 3
   },
   "file_extension": ".py",
   "mimetype": "text/x-python",
   "name": "python",
   "nbconvert_exporter": "python",
   "pygments_lexer": "ipython3",
   "version": "3.9.7"
  }
 },
 "nbformat": 4,
 "nbformat_minor": 5
}
